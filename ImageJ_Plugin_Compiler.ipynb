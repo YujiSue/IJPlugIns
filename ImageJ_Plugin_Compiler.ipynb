{
  "nbformat": 4,
  "nbformat_minor": 0,
  "metadata": {
    "colab": {
      "provenance": [],
      "authorship_tag": "ABX9TyM7NyFKN6tqgb2+lk/+3ibd",
      "include_colab_link": true
    },
    "kernelspec": {
      "name": "python3",
      "display_name": "Python 3"
    },
    "language_info": {
      "name": "python"
    }
  },
  "cells": [
    {
      "cell_type": "markdown",
      "metadata": {
        "id": "view-in-github",
        "colab_type": "text"
      },
      "source": [
        "<a href=\"https://colab.research.google.com/github/YujiSue/IJPlugIns/blob/master/ImageJ_Plugin_Compiler.ipynb\" target=\"_parent\"><img src=\"https://colab.research.google.com/assets/colab-badge.svg\" alt=\"Open In Colab\"/></a>"
      ]
    },
    {
      "cell_type": "markdown",
      "source": [
        "# ImageJ plugin compiler\n"
      ],
      "metadata": {
        "id": "kGrsRzdbNpDW"
      }
    },
    {
      "cell_type": "markdown",
      "source": [
        "## Single source file => JAVA class format plugin"
      ],
      "metadata": {
        "id": "ZcISumqzzUlO"
      }
    },
    {
      "cell_type": "code",
      "execution_count": null,
      "metadata": {
        "id": "Qu9XrGOovUuD",
        "cellView": "form"
      },
      "outputs": [],
      "source": [
        "#@title 1. Download IJ source and install OpenJDK (1.8)\n",
        "!git clone https://github.com/imagej/ImageJ.git\n",
        "!sudo apt-get install -y openjdk-8-jdk\n",
        "import os\n",
        "os.environ[\"JAVA_HOME\"] = \"/usr/lib/jvm/java-8-openjdk-amd64\"\n",
        "!update-alternatives --set java /usr/lib/jvm/java-8-openjdk-amd64/jre/bin/java\n",
        "!update-alternatives --set javac /usr/lib/jvm/java-8-openjdk-amd64/bin/javac\n",
        "!javac -version"
      ]
    },
    {
      "cell_type": "code",
      "source": [
        "#@title 2. Upload source\n",
        "#@markdown Upload your plugin source file \"xxx_yyyy.java\" into the directory [/content/ImageJ/plugins].\n",
        "import os\n",
        "from google.colab import files\n",
        "res = files.upload()\n",
        "os.system('mv -f /content/' + list(res)[0] + ' /content/ImageJ/plugins/')"
      ],
      "metadata": {
        "cellView": "form",
        "id": "QqF8aIbKz6Pb"
      },
      "execution_count": null,
      "outputs": []
    },
    {
      "cell_type": "code",
      "source": [
        "#@title 3. Compile java source to make a class file\n",
        "#@markdown Copy and paste your plugin's source file name.\n",
        "import os\n",
        "plugin_file = 'My_Plugin.java' #@param {\"type\":\"string\"}\n",
        "os.system('javac -sourcepath /content/ImageJ /content/ImageJ/plugins/' + plugin_file)"
      ],
      "metadata": {
        "cellView": "form",
        "id": "xbydN0eUwJYW"
      },
      "execution_count": null,
      "outputs": []
    },
    {
      "cell_type": "code",
      "source": [
        "#@title 4. Download the compiled class file\n",
        "#@markdown Download and install the compiled file (.class) as a plugin on your ImageJ app.\n",
        "from google.colab import files\n",
        "res = files.download('/content/ImageJ/plugins/'+plugin_file.replace('.java','.class'))"
      ],
      "metadata": {
        "colab": {
          "base_uri": "https://localhost:8080/",
          "height": 17
        },
        "id": "d7tfgY5V2kr7",
        "outputId": "ea63826a-f134-4a37-e3d8-87a82ae639cb",
        "cellView": "form"
      },
      "execution_count": null,
      "outputs": [
        {
          "output_type": "display_data",
          "data": {
            "text/plain": [
              "<IPython.core.display.Javascript object>"
            ],
            "application/javascript": [
              "\n",
              "    async function download(id, filename, size) {\n",
              "      if (!google.colab.kernel.accessAllowed) {\n",
              "        return;\n",
              "      }\n",
              "      const div = document.createElement('div');\n",
              "      const label = document.createElement('label');\n",
              "      label.textContent = `Downloading \"${filename}\": `;\n",
              "      div.appendChild(label);\n",
              "      const progress = document.createElement('progress');\n",
              "      progress.max = size;\n",
              "      div.appendChild(progress);\n",
              "      document.body.appendChild(div);\n",
              "\n",
              "      const buffers = [];\n",
              "      let downloaded = 0;\n",
              "\n",
              "      const channel = await google.colab.kernel.comms.open(id);\n",
              "      // Send a message to notify the kernel that we're ready.\n",
              "      channel.send({})\n",
              "\n",
              "      for await (const message of channel.messages) {\n",
              "        // Send a message to notify the kernel that we're ready.\n",
              "        channel.send({})\n",
              "        if (message.buffers) {\n",
              "          for (const buffer of message.buffers) {\n",
              "            buffers.push(buffer);\n",
              "            downloaded += buffer.byteLength;\n",
              "            progress.value = downloaded;\n",
              "          }\n",
              "        }\n",
              "      }\n",
              "      const blob = new Blob(buffers, {type: 'application/binary'});\n",
              "      const a = document.createElement('a');\n",
              "      a.href = window.URL.createObjectURL(blob);\n",
              "      a.download = filename;\n",
              "      div.appendChild(a);\n",
              "      a.click();\n",
              "      div.remove();\n",
              "    }\n",
              "  "
            ]
          },
          "metadata": {}
        },
        {
          "output_type": "display_data",
          "data": {
            "text/plain": [
              "<IPython.core.display.Javascript object>"
            ],
            "application/javascript": [
              "download(\"download_7ff80cb2-5e65-4fae-9ebd-f819078313ec\", \"ImDiff_Stacker.class\", 5469)"
            ]
          },
          "metadata": {}
        }
      ]
    },
    {
      "cell_type": "markdown",
      "source": [
        "## Multiple source files => JAR format plugin"
      ],
      "metadata": {
        "id": "kaEOJMKP34mF"
      }
    },
    {
      "cell_type": "code",
      "source": [
        "#@title Step 1. Install Maven\n",
        "!sudo apt-get install maven"
      ],
      "metadata": {
        "id": "jQu50yLjOtuU",
        "cellView": "form"
      },
      "execution_count": null,
      "outputs": []
    },
    {
      "cell_type": "markdown",
      "source": [
        "### Step 2. Make a new project\n",
        "If you are building a new plugin, perform the following steps.  \n",
        "Otherwise, if you have a repository for building the plugin, skip to step 3."
      ],
      "metadata": {
        "id": "fOvR7AvdGKN_"
      }
    },
    {
      "cell_type": "code",
      "source": [
        "#@title 2-1. Make plugin project (Maven)\n",
        "import os\n",
        "from google.colab import userdata\n",
        "%cd /content\n",
        "\n",
        "# Init.\n",
        "#imagej_version = 1 #@param [1,2]\n",
        "\n",
        "#@markdown ### Plugin information\n",
        "name = 'My Plugin' #@param {'type': 'string'}\n",
        "version = '0.1.0' #@param {'type': 'string'}\n",
        "os.environ['plugin_version'] = version\n",
        "description = 'Sample plugin.' #@param {'type': 'string'}\n",
        "develop_year = '2023' #@param {'type': 'string'}\n",
        "repository = 'https://github.com/YujiSue/IJPlugIns' #@param {'type': 'string'}\n",
        "os.system('git clone ' + repository)\n",
        "repo_name = os.path.split(repository)[1]\n",
        "license = 'CC0' #@param {'type': 'string'}\n",
        "plugin_path = name.lower().replace(\" \", \"_\")\n",
        "plugin_class = name.replace(\" \", \"_\")\n",
        "os.environ['plugin_class'] = plugin_class\n",
        "#plugin_subdir = '' #@param {'type': 'string'}\n",
        "plugin_dir = os.path.join('/content', repo_name, plugin_path)\n",
        "os.environ['plugin_dir'] = plugin_dir\n",
        "\n",
        "#@markdown ### Author information\n",
        "author = 'Yuji Suehiro' #@param {'type': 'string'}\n",
        "github_id = 'YujiSue' #@param {'type': 'string'}\n",
        "github_url = 'https://github.com/YujiSue' #@param {'type': 'string'}\n",
        "organization = 'ys-ebase' #@#param {'type': 'string'}\n",
        "org_url = 'https://ys-ebase.net/' #@#param {'type': 'string'}\n",
        "\n",
        "#@markdown ### About source codes\n",
        "group_name1 = 'net' #@param {'type': 'string'}\n",
        "group_name2 = 'ysij' #@param {'type': 'string'}\n",
        "package_name = '.'.join([group_name1, group_name2, 'imagej'])\n",
        "full_class = '.'.join([package_name, plugin_class])\n",
        "\n",
        "# Make dirs\n",
        "source_dir = os.path.join(plugin_dir, 'src', 'main', 'java', group_name1, group_name2, 'imagej')\n",
        "os.makedirs(source_dir, exist_ok=True)\n",
        "os.makedirs(os.path.join(plugin_dir, 'src', 'main', 'resources'), exist_ok=True)\n",
        "\n",
        "# Make config.\n",
        "with open(os.path.join(plugin_dir, 'src', 'main', 'resources', 'plugins.config'), 'w') as f:\n",
        "  f.write('Plugins, \"' + name + '\", ' + '.'.join([group_name1, group_name2, 'imagej', plugin_class]))\n",
        "\n",
        "# Make pom for Maven\n",
        "# Download template\n",
        "!wget https://raw.githubusercontent.com/YujiSue/IJPlugIns/master/template/pom_template.xml\n",
        "pom = ''\n",
        "with open('/content/pom_template.xml') as f:\n",
        "  pom = f.read()\n",
        "pom = pom.replace('%_GROUP_%', '.'.join([group_name1, group_name2]))\n",
        "pom = pom.replace('%_CLASS_%', plugin_class)\n",
        "pom = pom.replace('%_VERSION_%', version)\n",
        "pom = pom.replace('%_NAME_%', name)\n",
        "pom = pom.replace('%_REPOSITORY_%', repository)\n",
        "pom = pom.replace('%_DESCRIPTION_%', description)\n",
        "pom = pom.replace('%_YEAR_%', develop_year)\n",
        "pom = pom.replace('%_LICENSE_%', license)\n",
        "pom = pom.replace('%_ORG_%', organization)\n",
        "pom = pom.replace('%_ORG_URL_%', org_url)\n",
        "pom = pom.replace('%_AUTHOR_ID_%', github_id)\n",
        "pom = pom.replace('%_AUTHOR_%', author)\n",
        "pom = pom.replace('%_AUTHOR_URL_%', github_url)\n",
        "pom = pom.replace('%_PACKAGE_%', package_name)\n",
        "pom = pom.replace('%_FULL_CLASS_%', full_class)\n",
        "\n",
        "with open(os.path.join(plugin_dir, 'pom.xml'), 'w') as f:\n",
        "  f.write(pom)"
      ],
      "metadata": {
        "id": "Rz0BF53740FL",
        "cellView": "form"
      },
      "execution_count": null,
      "outputs": []
    },
    {
      "cell_type": "code",
      "source": [
        "#@title 2-2. Generate main class source file\n",
        "import os\n",
        "plugin_type = 'plugin' #@param['plugin', 'filter', 'frame', 'tool']\n",
        "\n",
        "template_file = ''\n",
        "if plugin_type == 'plugin':\n",
        "  os.system('wget https://raw.githubusercontent.com/YujiSue/IJPlugIns/master/template/My_Plugin.java')\n",
        "  template_file = 'My_Plugin.java'\n",
        "elif plugin_type == 'filter':\n",
        "  os.system('wget https://raw.githubusercontent.com/YujiSue/IJPlugIns/master/template/Filter_Plugin.java')\n",
        "  template_file = 'Filter_Plugin.java'\n",
        "elif plugin_type == 'frame':\n",
        "  os.system('wget https://raw.githubusercontent.com/YujiSue/IJPlugIns/master/template/Plugin_Frame.java')\n",
        "  template_file = 'Plugin_Frame.java'\n",
        "else:\n",
        "  os.system('wget https://raw.githubusercontent.com/YujiSue/IJPlugIns/master/template/Prototype_Tool.java')\n",
        "  template_file = 'Prototype_Tool.java'\n",
        "\n",
        "main_src = ''\n",
        "with open(template_file) as f:\n",
        "  main_src = f.read()\n",
        "main_src = main_src.replace('%_PACKAGE_%', package_name)\n",
        "main_src = main_src.replace('%_CLASS_%', plugin_class)\n",
        "main_src_path = os.path.join(source_dir, plugin_class+'.java')\n",
        "with open(main_src_path, 'w') as fw:\n",
        "  fw.write(main_src)"
      ],
      "metadata": {
        "id": "9wKzw3ZmSq2S",
        "cellView": "form"
      },
      "execution_count": 2,
      "outputs": []
    },
    {
      "cell_type": "code",
      "source": [
        "#@title 2-3. Push to Github\n",
        "#@markdown If need, edit your main class and append additional source file(s).<br>\n",
        "#@markdown Then, push the source file(s) to Github repository.\n",
        "import os\n",
        "from google.colab import userdata\n",
        "auth_repos = repository.replace('github.com', github_id + \":\" + userdata.get('git_auth') + '@github.com')\n",
        "repos = os.path.split(repository)[1]\n",
        "os.system('cp -r ' + plugin_dir + ' ' + repos)\n",
        "os.chdir(repo_name)\n",
        "os.system('git config user.email \"' +  userdata.get('git_email') + '\"')\n",
        "os.system('git config user.name \"' +  userdata.get('git_user') + '\"')\n",
        "os.system('git add ' + plugin_path)\n",
        "os.system('git commit -m \"IJ plugin source(s) created by Google Colab.\"')\n",
        "os.system('git remote set-url origin \"' + auth_repos + '\"')\n",
        "os.system('git push origin master')"
      ],
      "metadata": {
        "id": "Hl3rpi0oHHbs",
        "cellView": "form"
      },
      "execution_count": null,
      "outputs": []
    },
    {
      "cell_type": "code",
      "source": [],
      "metadata": {
        "id": "rRpL6IAAWO1m"
      },
      "execution_count": null,
      "outputs": []
    },
    {
      "cell_type": "markdown",
      "source": [
        "### Step 3. Copy project from Github\n",
        "If you created the project in step 2, skip this step."
      ],
      "metadata": {
        "id": "JhoW0qxSGWVC"
      }
    },
    {
      "cell_type": "code",
      "source": [
        "#@title Clone git repository\n",
        "import os\n",
        "import xml.etree.ElementTree as ET\n",
        "repository = 'https://github.com/YujiSue/IJPlugIns' #@param {'type': 'string' }\n",
        "plugin_path = 'my_plugin' #@param {'type': 'string' }\n",
        "os.system('git clone ' + repository)\n",
        "repo_name = os.path.splitext(os.path.split(repository)[1])[0]\n",
        "plugin_dir = os.path.join('/content', repo_name, plugin_path)\n",
        "os.environ['plugin_dir'] = plugin_dir\n",
        "tree = ET.parse(os.path.join(plugin_dir, 'pom.xml'))\n",
        "root = tree.getroot()\n",
        "plugin_class = root.find('{*}artifactId').text\n",
        "os.environ['plugin_class'] = plugin_class\n",
        "version = root.find('{*}version').text\n",
        "os.environ['plugin_version'] = version\n"
      ],
      "metadata": {
        "id": "a7d4N78TGb_K",
        "cellView": "form"
      },
      "execution_count": 2,
      "outputs": []
    },
    {
      "cell_type": "markdown",
      "source": [
        "### Build plugin"
      ],
      "metadata": {
        "id": "-uT9fF0OGcd_"
      }
    },
    {
      "cell_type": "code",
      "source": [
        "#@title Step 4. Build JAR format plugin\n",
        "%cd $plugin_dir\n",
        "!mvn package\n",
        "!cp -f $plugin_dir/target/$plugin_class-$plugin_version.jar /content/$plugin_class.jar"
      ],
      "metadata": {
        "id": "zfnbjsRuQGk_",
        "cellView": "form"
      },
      "execution_count": null,
      "outputs": []
    },
    {
      "cell_type": "code",
      "source": [
        "#@title Step 5. Download JAR format plugin\n",
        "import os\n",
        "from google.colab import files\n",
        "os.chdir('/content')\n",
        "res = files.download(plugin_class+'.jar')"
      ],
      "metadata": {
        "id": "nBQ82NqMJdCS",
        "cellView": "form",
        "colab": {
          "base_uri": "https://localhost:8080/",
          "height": 17
        },
        "outputId": "f19298a3-2184-4a99-82e1-75540101afc1"
      },
      "execution_count": 4,
      "outputs": [
        {
          "output_type": "display_data",
          "data": {
            "text/plain": [
              "<IPython.core.display.Javascript object>"
            ],
            "application/javascript": [
              "\n",
              "    async function download(id, filename, size) {\n",
              "      if (!google.colab.kernel.accessAllowed) {\n",
              "        return;\n",
              "      }\n",
              "      const div = document.createElement('div');\n",
              "      const label = document.createElement('label');\n",
              "      label.textContent = `Downloading \"${filename}\": `;\n",
              "      div.appendChild(label);\n",
              "      const progress = document.createElement('progress');\n",
              "      progress.max = size;\n",
              "      div.appendChild(progress);\n",
              "      document.body.appendChild(div);\n",
              "\n",
              "      const buffers = [];\n",
              "      let downloaded = 0;\n",
              "\n",
              "      const channel = await google.colab.kernel.comms.open(id);\n",
              "      // Send a message to notify the kernel that we're ready.\n",
              "      channel.send({})\n",
              "\n",
              "      for await (const message of channel.messages) {\n",
              "        // Send a message to notify the kernel that we're ready.\n",
              "        channel.send({})\n",
              "        if (message.buffers) {\n",
              "          for (const buffer of message.buffers) {\n",
              "            buffers.push(buffer);\n",
              "            downloaded += buffer.byteLength;\n",
              "            progress.value = downloaded;\n",
              "          }\n",
              "        }\n",
              "      }\n",
              "      const blob = new Blob(buffers, {type: 'application/binary'});\n",
              "      const a = document.createElement('a');\n",
              "      a.href = window.URL.createObjectURL(blob);\n",
              "      a.download = filename;\n",
              "      div.appendChild(a);\n",
              "      a.click();\n",
              "      div.remove();\n",
              "    }\n",
              "  "
            ]
          },
          "metadata": {}
        },
        {
          "output_type": "display_data",
          "data": {
            "text/plain": [
              "<IPython.core.display.Javascript object>"
            ],
            "application/javascript": [
              "download(\"download_5bab0763-d5f8-48f5-a17c-66983c821f1d\", \"My_Plugin.jar\", 3041)"
            ]
          },
          "metadata": {}
        }
      ]
    }
  ]
}